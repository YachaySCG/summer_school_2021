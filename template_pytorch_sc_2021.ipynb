{
 "cells": [
  {
   "cell_type": "markdown",
   "id": "4ac1c231",
   "metadata": {},
   "source": [
    "<a href=\"https://colab.research.google.com/github/ZosoV/aco_random_walk/blob/main/notebooks/aco_pp.ipynb\" target=\"_parent\"><img src=\"https://colab.research.google.com/assets/colab-badge.svg\" alt=\"Open In Colab\"/></a>\n",
    "\n",
    "# Project Template\n",
    "\n",
    "This is a project template for the challenge SC 2021"
   ]
  },
  {
   "cell_type": "markdown",
   "id": "defb298d",
   "metadata": {},
   "source": [
    "## Setup"
   ]
  },
  {
   "cell_type": "code",
   "execution_count": null,
   "id": "57229c96",
   "metadata": {},
   "outputs": [],
   "source": [
    "import os\n",
    "import torch\n",
    "import np"
   ]
  },
  {
   "cell_type": "code",
   "execution_count": null,
   "id": "b1f0aee2",
   "metadata": {},
   "outputs": [],
   "source": [
    "COLAB_ENV = False\n",
    "\n",
    "if COLAB_ENV:\n",
    "    from google.colab import drive\n",
    "    drive.mount('/content/gdrive')\n",
    "    if not os.path.exists(\"/content/gdrive/MyDrive/sc_2021\"):\n",
    "        os.path.makedirs(\"/content/gdrive/MyDrive/sc_2021\")\n",
    "    \n",
    "    %cd /content/gdrive/MyDrive/sc_2021"
   ]
  },
  {
   "cell_type": "markdown",
   "id": "a80b5da6",
   "metadata": {},
   "source": [
    "##  Set random seed"
   ]
  },
  {
   "cell_type": "markdown",
   "id": "9476d03e",
   "metadata": {},
   "source": [
    " Executing `set_seed(seed=seed)` you are setting the seed"
   ]
  },
  {
   "cell_type": "code",
   "execution_count": 17,
   "id": "cf2c4afb",
   "metadata": {},
   "outputs": [
    {
     "ename": "ModuleNotFoundError",
     "evalue": "No module named 'torch'",
     "output_type": "error",
     "traceback": [
      "\u001b[0;31m---------------------------------------------------------------------------\u001b[0m",
      "\u001b[0;31mModuleNotFoundError\u001b[0m                       Traceback (most recent call last)",
      "\u001b[0;32m<ipython-input-17-438d6ce76711>\u001b[0m in \u001b[0;36m<module>\u001b[0;34m\u001b[0m\n\u001b[1;32m      9\u001b[0m \u001b[0;31m# Call `set_seed` function in the exercises to ensure reproducibility.\u001b[0m\u001b[0;34m\u001b[0m\u001b[0;34m\u001b[0m\u001b[0;34m\u001b[0m\u001b[0m\n\u001b[1;32m     10\u001b[0m \u001b[0;32mimport\u001b[0m \u001b[0mrandom\u001b[0m\u001b[0;34m\u001b[0m\u001b[0;34m\u001b[0m\u001b[0m\n\u001b[0;32m---> 11\u001b[0;31m \u001b[0;32mimport\u001b[0m \u001b[0mtorch\u001b[0m\u001b[0;34m\u001b[0m\u001b[0;34m\u001b[0m\u001b[0m\n\u001b[0m\u001b[1;32m     12\u001b[0m \u001b[0;34m\u001b[0m\u001b[0m\n\u001b[1;32m     13\u001b[0m \u001b[0;32mdef\u001b[0m \u001b[0mset_seed\u001b[0m\u001b[0;34m(\u001b[0m\u001b[0mseed\u001b[0m\u001b[0;34m=\u001b[0m\u001b[0;32mNone\u001b[0m\u001b[0;34m,\u001b[0m \u001b[0mseed_torch\u001b[0m\u001b[0;34m=\u001b[0m\u001b[0;32mTrue\u001b[0m\u001b[0;34m)\u001b[0m\u001b[0;34m:\u001b[0m\u001b[0;34m\u001b[0m\u001b[0;34m\u001b[0m\u001b[0m\n",
      "\u001b[0;31mModuleNotFoundError\u001b[0m: No module named 'torch'"
     ]
    }
   ],
   "source": [
    "# @title Set random seed\n",
    "\n",
    "# @markdown Executing `set_seed(seed=seed)` you are setting the seed\n",
    "\n",
    "# for DL its critical to set the random seed so that students can have a\n",
    "# baseline to compare their results to expected results.\n",
    "# Read more here: https://pytorch.org/docs/stable/notes/randomness.html\n",
    "\n",
    "# Call `set_seed` function in the exercises to ensure reproducibility.\n",
    "import random\n",
    "import torch\n",
    "\n",
    "def set_seed(seed=None, seed_torch=True):\n",
    "  if seed is None:\n",
    "    seed = np.random.choice(2 ** 32)\n",
    "  random.seed(seed)\n",
    "  np.random.seed(seed)\n",
    "  if seed_torch:\n",
    "    torch.manual_seed(seed)\n",
    "    torch.cuda.manual_seed_all(seed)\n",
    "    torch.cuda.manual_seed(seed)\n",
    "    torch.backends.cudnn.benchmark = False\n",
    "    torch.backends.cudnn.deterministic = True\n",
    "\n",
    "  print(f'Random seed {seed} has been set.')\n",
    "\n",
    "# In case that `DataLoader` is used\n",
    "def seed_worker(worker_id):\n",
    "  worker_seed = torch.initial_seed() % 2**32\n",
    "  np.random.seed(worker_seed)\n",
    "  random.seed(worker_seed)"
   ]
  },
  {
   "cell_type": "code",
   "execution_count": 14,
   "id": "84c31d19",
   "metadata": {},
   "outputs": [],
   "source": [
    "!pip -q install gdown"
   ]
  },
  {
   "cell_type": "code",
   "execution_count": null,
   "id": "c1da3b95",
   "metadata": {},
   "outputs": [],
   "source": [
    "if not os.path.exists(\"stuff/data\"):\n",
    "    os.makedirs(\"stuff/data\")"
   ]
  },
  {
   "cell_type": "code",
   "execution_count": 15,
   "id": "b1c5f8d9",
   "metadata": {
    "scrolled": true
   },
   "outputs": [
    {
     "name": "stdout",
     "output_type": "stream",
     "text": [
      "Downloading...\n",
      "From: https://drive.google.com/uc?id=1rj3UQDnEInxdwzOHCqevveUl24fiuJ46\n",
      "To: /home/zosov/sc_2021/data_scg_2021.zip\n",
      "166MB [00:23, 7.00MB/s] \n",
      "mv: cannot stat 'prep': No such file or directory\n"
     ]
    }
   ],
   "source": [
    "!gdown https://drive.google.com/uc?id=1rj3UQDnEInxdwzOHCqevveUl24fiuJ46\n",
    "!unzip -qq data_scg_2021.zip\n",
    "!mv pred stuff/data/\n",
    "!mv test stuff/data/\n",
    "!mv train stuff/data/"
   ]
  },
  {
   "cell_type": "code",
   "execution_count": null,
   "id": "0020c108",
   "metadata": {},
   "outputs": [],
   "source": []
  }
 ],
 "metadata": {
  "kernelspec": {
   "display_name": "sc_2021",
   "language": "python",
   "name": "sc_2021"
  },
  "language_info": {
   "codemirror_mode": {
    "name": "ipython",
    "version": 3
   },
   "file_extension": ".py",
   "mimetype": "text/x-python",
   "name": "python",
   "nbconvert_exporter": "python",
   "pygments_lexer": "ipython3",
   "version": "3.7.11"
  }
 },
 "nbformat": 4,
 "nbformat_minor": 5
}
